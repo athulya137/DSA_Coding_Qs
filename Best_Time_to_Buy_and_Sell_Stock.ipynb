{
  "nbformat": 4,
  "nbformat_minor": 0,
  "metadata": {
    "colab": {
      "provenance": [],
      "authorship_tag": "ABX9TyMxcNJm6bpsTp5E7ofIcl5C",
      "include_colab_link": true
    },
    "kernelspec": {
      "name": "python3",
      "display_name": "Python 3"
    },
    "language_info": {
      "name": "python"
    }
  },
  "cells": [
    {
      "cell_type": "markdown",
      "metadata": {
        "id": "view-in-github",
        "colab_type": "text"
      },
      "source": [
        "<a href=\"https://colab.research.google.com/github/athulya137/DSA_Coding_Qs/blob/main/Best_Time_to_Buy_and_Sell_Stock.ipynb\" target=\"_parent\"><img src=\"https://colab.research.google.com/assets/colab-badge.svg\" alt=\"Open In Colab\"/></a>"
      ]
    },
    {
      "cell_type": "code",
      "execution_count": 1,
      "metadata": {
        "id": "udg_Bb_BGghr"
      },
      "outputs": [],
      "source": [
        "# You are given an array prices where prices[i] is the price of a given stock on the ith day.\n",
        "\n",
        "# You want to maximize your profit by choosing a single day to buy one stock and choosing a different day in the future to sell that stock.\n",
        "\n",
        "# Return the maximum profit you can achieve from this transaction. If you cannot achieve any profit, return 0.\n",
        "# Example 1:\n",
        "\n",
        "# Input: prices = [7,1,5,3,6,4]\n",
        "# Output: 5\n",
        "# Explanation: Buy on day 2 (price = 1) and sell on day 5 (price = 6), profit = 6-1 = 5.Note that buying on day 2 and selling on day 1 is not allowed because you must buy before you sell."
      ]
    },
    {
      "cell_type": "code",
      "source": [
        "class Solution(object):\n",
        "    def maxProfit(self, prices):\n",
        "        \"\"\"\n",
        "        :type prices: List[int]\n",
        "        :rtype: int\n",
        "        \"\"\"\n",
        "        # Initialize variables for the minimum price and maximum profit\n",
        "        min_price = float('inf')  # Initially set to infinity\n",
        "        max_profit = 0  # Initially set to 0, no profit made yet\n",
        "\n",
        "        # Iterate through each price in the prices list\n",
        "        for price in prices:\n",
        "            # Update the minimum price if the current price is lower\n",
        "            if price < min_price:\n",
        "                min_price = price\n",
        "            # Calculate the potential profit and update max_profit if needed\n",
        "            elif price - min_price > max_profit:\n",
        "                max_profit = price - min_price\n",
        "\n",
        "        return max_profit\n",
        "\n",
        "# Example usage:\n",
        "solution = Solution()\n",
        "\n",
        "prices1 = [7, 1, 5, 3, 6, 4]\n",
        "print(solution.maxProfit(prices1))  # Output: 5\n"
      ],
      "metadata": {
        "colab": {
          "base_uri": "https://localhost:8080/"
        },
        "id": "JOF2YAjEG0pd",
        "outputId": "a8be9e41-7124-4ff2-a43c-df14a4653e11"
      },
      "execution_count": 2,
      "outputs": [
        {
          "output_type": "stream",
          "name": "stdout",
          "text": [
            "5\n"
          ]
        }
      ]
    },
    {
      "cell_type": "code",
      "source": [],
      "metadata": {
        "id": "ab4VjQdtG2zA"
      },
      "execution_count": null,
      "outputs": []
    }
  ]
}