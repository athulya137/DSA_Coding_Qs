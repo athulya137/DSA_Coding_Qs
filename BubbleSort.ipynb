{
  "nbformat": 4,
  "nbformat_minor": 0,
  "metadata": {
    "colab": {
      "provenance": [],
      "authorship_tag": "ABX9TyNjv7K6BqeLbZVd8qIk+qtu",
      "include_colab_link": true
    },
    "kernelspec": {
      "name": "python3",
      "display_name": "Python 3"
    },
    "language_info": {
      "name": "python"
    }
  },
  "cells": [
    {
      "cell_type": "markdown",
      "metadata": {
        "id": "view-in-github",
        "colab_type": "text"
      },
      "source": [
        "<a href=\"https://colab.research.google.com/github/athulya137/DSA_Coding_Qs/blob/main/BubbleSort.ipynb\" target=\"_parent\"><img src=\"https://colab.research.google.com/assets/colab-badge.svg\" alt=\"Open In Colab\"/></a>"
      ]
    },
    {
      "cell_type": "code",
      "execution_count": 1,
      "metadata": {
        "colab": {
          "base_uri": "https://localhost:8080/"
        },
        "id": "wYs1LxR0xgkT",
        "outputId": "bfd42cc0-39a4-4788-a9fa-3df46d8f1fd9"
      },
      "outputs": [
        {
          "output_type": "stream",
          "name": "stdout",
          "text": [
            "Sorted array: [90, 64, 34, 25, 22, 12, 11, 5]\n"
          ]
        }
      ],
      "source": [
        "my_array = [64, 34, 25, 12, 22, 11, 90, 5]\n",
        "n = len(my_array)\n",
        "for i in range(n-1):\n",
        "  for j in range (n-i-1):\n",
        "    if my_array[j+1] > my_array[j]:\n",
        "      my_array[j+1],my_array[j] = my_array[j],my_array[j+1]\n",
        "print(\"Sorted array:\", my_array)"
      ]
    },
    {
      "cell_type": "code",
      "source": [],
      "metadata": {
        "id": "wqxmX3fd0uL3"
      },
      "execution_count": null,
      "outputs": []
    }
  ]
}