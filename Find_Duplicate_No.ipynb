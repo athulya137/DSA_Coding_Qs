{
  "nbformat": 4,
  "nbformat_minor": 0,
  "metadata": {
    "colab": {
      "provenance": [],
      "authorship_tag": "ABX9TyOfu9HPjJ/eb4z/f7AKJzPi",
      "include_colab_link": true
    },
    "kernelspec": {
      "name": "python3",
      "display_name": "Python 3"
    },
    "language_info": {
      "name": "python"
    }
  },
  "cells": [
    {
      "cell_type": "markdown",
      "metadata": {
        "id": "view-in-github",
        "colab_type": "text"
      },
      "source": [
        "<a href=\"https://colab.research.google.com/github/athulya137/DSA_Coding_Qs/blob/main/Find_Duplicate_No.ipynb\" target=\"_parent\"><img src=\"https://colab.research.google.com/assets/colab-badge.svg\" alt=\"Open In Colab\"/></a>"
      ]
    },
    {
      "cell_type": "code",
      "execution_count": 1,
      "metadata": {
        "id": "lBPR5NeytvBO"
      },
      "outputs": [],
      "source": [
        "# Given an array of integers nums containing n + 1 integers where each integer is in the range [1, n] inclusive.\n",
        "# There is only one repeated number in nums, return this repeated number.\n",
        "# You must solve the problem without modifying the array nums and using only constant extra space.\n",
        "# Example 1:\n",
        "# Input: nums = [1,3,4,2,2]\n",
        "# Output: 2"
      ]
    },
    {
      "cell_type": "code",
      "source": [
        "class Solution(object):\n",
        "    def findDuplicate(self, nums):\n",
        "      left=1\n",
        "      right=len(nums)-1\n",
        "      while left < right:\n",
        "        mid= (left+right)//2\n",
        "        count= sum(num <= mid for num in nums)\n",
        "        if count > mid:\n",
        "          right= mid\n",
        "        else:\n",
        "          left= mid+1\n",
        "      return left\n",
        "\n",
        "# Example usage:\n",
        "solution = Solution()\n",
        "nums1 = [1, 3, 4, 2, 2]\n",
        "nums2 = [3, 1, 3, 4, 2]\n",
        "nums3 = [3, 3, 3, 3, 3]\n",
        "\n",
        "print(solution.findDuplicate(nums1))\n",
        "print(solution.findDuplicate(nums2))\n",
        "print(solution.findDuplicate(nums3))"
      ],
      "metadata": {
        "colab": {
          "base_uri": "https://localhost:8080/"
        },
        "id": "BF-28df2t7c1",
        "outputId": "4d800a51-d4ed-467d-aff7-100839f07173"
      },
      "execution_count": 2,
      "outputs": [
        {
          "output_type": "stream",
          "name": "stdout",
          "text": [
            "2\n",
            "3\n",
            "3\n"
          ]
        }
      ]
    },
    {
      "cell_type": "code",
      "source": [],
      "metadata": {
        "id": "BlqgpVamurI1"
      },
      "execution_count": null,
      "outputs": []
    }
  ]
}