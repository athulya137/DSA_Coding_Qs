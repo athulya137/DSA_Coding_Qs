{
  "nbformat": 4,
  "nbformat_minor": 0,
  "metadata": {
    "colab": {
      "provenance": [],
      "authorship_tag": "ABX9TyOzYNAXk/51OPy4XCipwo4E",
      "include_colab_link": true
    },
    "kernelspec": {
      "name": "python3",
      "display_name": "Python 3"
    },
    "language_info": {
      "name": "python"
    }
  },
  "cells": [
    {
      "cell_type": "markdown",
      "metadata": {
        "id": "view-in-github",
        "colab_type": "text"
      },
      "source": [
        "<a href=\"https://colab.research.google.com/github/athulya137/DSA_Coding_Qs/blob/main/K_Palindrome_Strings.ipynb\" target=\"_parent\"><img src=\"https://colab.research.google.com/assets/colab-badge.svg\" alt=\"Open In Colab\"/></a>"
      ]
    },
    {
      "cell_type": "code",
      "execution_count": 3,
      "metadata": {
        "id": "-mU0_hd5mqIo"
      },
      "outputs": [],
      "source": [
        "# Given a string s and an integer k, return true if you can use all the characters in s to construct k palindrome strings or false otherwise.\n",
        "# Example 1:\n",
        "# Input: s = \"annabelle\", k = 2\n",
        "# Output: true\n",
        "# Explanation: You can construct two palindromes using all characters in s.Some possible constructions \"anna\" + \"elble\", \"anbna\" + \"elle\", \"anellena\" + \"b\"\n",
        "# Example 2:\n",
        "# Input: s = \"leetcode\", k = 3\n",
        "# Output: false\n",
        "# Explanation: It is impossible to construct 3 palindromes using all the characters of s.\n",
        "# Example 3:\n",
        "# Input: s = \"true\", k = 4\n",
        "# Output: true\n",
        "# Explanation: The only possible solution is to put each character in a separate string.\n",
        "# Constraints:\n",
        "# 1 <= s.length <= 105\n",
        "# s consists of lowercase English letters.\n",
        "# 1 <= k <= 105\n"
      ]
    },
    {
      "cell_type": "code",
      "source": [
        "def canConstruct(s: str, k: int) -> bool:\n",
        "    # If k is greater than the length of s, it's impossible to construct k palindromes\n",
        "    if k > len(s):\n",
        "        return False\n",
        "\n",
        "    # Use a set to track characters with odd counts\n",
        "    odd_chars = set()\n",
        "\n",
        "    # Iterate through characters and toggle their presence in the odd_chars set\n",
        "    for char in s:\n",
        "        if char in odd_chars:\n",
        "            odd_chars.remove(char)\n",
        "        else:\n",
        "            odd_chars.add(char)\n",
        "\n",
        "    # The size of odd_chars gives the count of characters with odd frequencies\n",
        "    odd_count = len(odd_chars)\n",
        "\n",
        "    # To construct k palindromes, k must be at least the number of odd characters\n",
        "    return k >= odd_count\n",
        "\n",
        "# Example Test Cases\n",
        "print(canConstruct(\"annabelle\", 2))\n",
        "print(canConstruct(\"leetcode\", 3))\n",
        "print(canConstruct(\"true\", 4))\n"
      ],
      "metadata": {
        "colab": {
          "base_uri": "https://localhost:8080/"
        },
        "id": "QUx3KqlEm4U5",
        "outputId": "ed8a696c-797a-4372-a88c-e33fdfc2e964"
      },
      "execution_count": 2,
      "outputs": [
        {
          "output_type": "stream",
          "name": "stdout",
          "text": [
            "True\n",
            "False\n",
            "True\n"
          ]
        }
      ]
    },
    {
      "cell_type": "code",
      "source": [],
      "metadata": {
        "id": "8nP-zA33ooX7"
      },
      "execution_count": null,
      "outputs": []
    }
  ]
}