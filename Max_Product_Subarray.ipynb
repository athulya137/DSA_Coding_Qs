{
  "nbformat": 4,
  "nbformat_minor": 0,
  "metadata": {
    "colab": {
      "provenance": [],
      "authorship_tag": "ABX9TyPYb1ARr/O3Ptu6Wc+p4SrS",
      "include_colab_link": true
    },
    "kernelspec": {
      "name": "python3",
      "display_name": "Python 3"
    },
    "language_info": {
      "name": "python"
    }
  },
  "cells": [
    {
      "cell_type": "markdown",
      "metadata": {
        "id": "view-in-github",
        "colab_type": "text"
      },
      "source": [
        "<a href=\"https://colab.research.google.com/github/athulya137/DSA_Coding_Qs/blob/main/Max_Product_Subarray.ipynb\" target=\"_parent\"><img src=\"https://colab.research.google.com/assets/colab-badge.svg\" alt=\"Open In Colab\"/></a>"
      ]
    },
    {
      "cell_type": "code",
      "execution_count": 1,
      "metadata": {
        "id": "GMDTckbEvFYQ"
      },
      "outputs": [],
      "source": [
        "# Given an integer array nums, find a subarray that has the largest product, and return the product.The test cases are generated so that the answer will fit in a 32-bit integer.\n",
        "# Example 1:\n",
        "# Input: nums = [2,3,-2,4]\n",
        "# Explanation: [2,3] has the largest product 6.\n",
        "# Example 2:\n",
        "# Input: nums = [-2,0,-1]\n",
        "# Output: 0\n",
        "# Explanation: The result cannot be 2, because [-2,-1] is not a subarray"
      ]
    },
    {
      "cell_type": "code",
      "source": [
        "class Solution(object):\n",
        "    def maxProduct(self, nums):\n",
        "        if not nums:\n",
        "            return 0\n",
        "        max_product = nums[0]\n",
        "        min_product = nums[0]\n",
        "        result = nums[0]\n",
        "        for i in range(1, len(nums)):\n",
        "            num = nums[i]\n",
        "            if num < 0:\n",
        "                max_product, min_product = min_product, max_productprint(solution.maxProduct([2,3,-2,4]))\n",
        "            max_product = max(num, max_product * num)\n",
        "            min_product = min(num, min_product * num)\n",
        "            result = max(result, max_product)\n",
        "\n",
        "        return result\n",
        "# example\n",
        "solution = Solution()\n",
        "print(solution.maxProduct([2,3,-2,4]))\n"
      ],
      "metadata": {
        "colab": {
          "base_uri": "https://localhost:8080/"
        },
        "id": "yqBMp0PevVrB",
        "outputId": "fd408888-9dca-4b58-8615-1dd0e5397525"
      },
      "execution_count": 2,
      "outputs": [
        {
          "output_type": "stream",
          "name": "stdout",
          "text": [
            "6\n"
          ]
        }
      ]
    },
    {
      "cell_type": "code",
      "source": [
        "print(solution.maxProduct([-2,0,-1]))"
      ],
      "metadata": {
        "colab": {
          "base_uri": "https://localhost:8080/"
        },
        "id": "0u5-YejbxMd6",
        "outputId": "bd3b3ae2-3ddf-46c6-efa2-3a3d99ca87ae"
      },
      "execution_count": 3,
      "outputs": [
        {
          "output_type": "stream",
          "name": "stdout",
          "text": [
            "0\n"
          ]
        }
      ]
    },
    {
      "cell_type": "code",
      "source": [],
      "metadata": {
        "id": "p8El1FyMxUeZ"
      },
      "execution_count": null,
      "outputs": []
    }
  ]
}