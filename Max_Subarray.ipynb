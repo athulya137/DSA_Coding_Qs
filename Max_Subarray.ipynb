{
  "nbformat": 4,
  "nbformat_minor": 0,
  "metadata": {
    "colab": {
      "provenance": [],
      "authorship_tag": "ABX9TyNt93vPhtrizPdPpmkF5ggJ",
      "include_colab_link": true
    },
    "kernelspec": {
      "name": "python3",
      "display_name": "Python 3"
    },
    "language_info": {
      "name": "python"
    }
  },
  "cells": [
    {
      "cell_type": "markdown",
      "metadata": {
        "id": "view-in-github",
        "colab_type": "text"
      },
      "source": [
        "<a href=\"https://colab.research.google.com/github/athulya137/DSA_Coding_Qs/blob/main/Max_Subarray.ipynb\" target=\"_parent\"><img src=\"https://colab.research.google.com/assets/colab-badge.svg\" alt=\"Open In Colab\"/></a>"
      ]
    },
    {
      "cell_type": "code",
      "execution_count": 1,
      "metadata": {
        "id": "HVDlXSdkptkv"
      },
      "outputs": [],
      "source": [
        "# Given an integer array nums, find the subarray with the largest sum, and return its sum.\n",
        "# Example 1:\n",
        "# Input: nums = [-2,1,-3,4,-1,2,1,-5,4]\n",
        "# Output: 6\n",
        "# Explanation: The subarray [4,-1,2,1] has the largest sum 6.\n",
        "# Example 2:\n",
        "# Input: nums = [1]\n",
        "# Output: 1\n",
        "# Explanation: The subarray [1] has the largest sum 1.\n",
        "# Example 3:\n",
        "# Input: nums = [5,4,-1,7,8]\n",
        "# Output: 23\n",
        "# Explanation: The subarray [5,4,-1,7,8] has the largest sum 23.\n",
        "# Constraints: 1 <= nums.length <= 105,  -104 <= nums[i] <= 104"
      ]
    },
    {
      "cell_type": "code",
      "source": [
        "class Solution(object):\n",
        "    def maxSubArray(self, nums):\n",
        "        \"\"\"\n",
        "        :type nums: List[int]\n",
        "        :rtype: int\n",
        "        \"\"\"\n",
        "        # Initialize variables\n",
        "        max_sum = nums[0]\n",
        "        current_sum = nums[0]\n",
        "\n",
        "        for i in range(1, len(nums)):\n",
        "            # Either add the current element to the existing subarray or start a new subarray\n",
        "            current_sum = max(nums[i], current_sum + nums[i])\n",
        "            # Update the maximum sum\n",
        "            max_sum = max(max_sum, current_sum)\n",
        "\n",
        "        return max_sum\n",
        "\n",
        "# example\n",
        "solution = Solution()\n",
        "print(solution.maxSubArray( [-2,1,-3,4,-1,2,1,-5,4]))"
      ],
      "metadata": {
        "colab": {
          "base_uri": "https://localhost:8080/"
        },
        "id": "Pgw9WWFOqJO1",
        "outputId": "668a9cb4-79e4-48a5-acd3-0df4ffb11897"
      },
      "execution_count": 2,
      "outputs": [
        {
          "output_type": "stream",
          "name": "stdout",
          "text": [
            "6\n"
          ]
        }
      ]
    },
    {
      "cell_type": "code",
      "source": [
        "print(solution.maxSubArray( [5,4,-1,7,8]))"
      ],
      "metadata": {
        "colab": {
          "base_uri": "https://localhost:8080/"
        },
        "id": "5PbwG-MesJSh",
        "outputId": "50b6b42f-6985-4a02-9c91-e5c239b2074a"
      },
      "execution_count": 3,
      "outputs": [
        {
          "output_type": "stream",
          "name": "stdout",
          "text": [
            "23\n"
          ]
        }
      ]
    },
    {
      "cell_type": "code",
      "source": [],
      "metadata": {
        "id": "aSqF-jj_sREk"
      },
      "execution_count": null,
      "outputs": []
    }
  ]
}