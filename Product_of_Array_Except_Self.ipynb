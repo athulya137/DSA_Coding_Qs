{
  "nbformat": 4,
  "nbformat_minor": 0,
  "metadata": {
    "colab": {
      "provenance": [],
      "authorship_tag": "ABX9TyNWD36rff4iE+pXWxGeGyi6",
      "include_colab_link": true
    },
    "kernelspec": {
      "name": "python3",
      "display_name": "Python 3"
    },
    "language_info": {
      "name": "python"
    }
  },
  "cells": [
    {
      "cell_type": "markdown",
      "metadata": {
        "id": "view-in-github",
        "colab_type": "text"
      },
      "source": [
        "<a href=\"https://colab.research.google.com/github/athulya137/DSA_Coding_Qs/blob/main/Product_of_Array_Except_Self.ipynb\" target=\"_parent\"><img src=\"https://colab.research.google.com/assets/colab-badge.svg\" alt=\"Open In Colab\"/></a>"
      ]
    },
    {
      "cell_type": "code",
      "execution_count": 1,
      "metadata": {
        "id": "ZNyBP4a4xREm"
      },
      "outputs": [],
      "source": [
        "# Given an integer array nums, return an array answer such that answer[i] is equal to the product of all the elements of nums except nums[i].\n",
        "# The product of any prefix or suffix of nums is guaranteed to fit in a 32-bit integer.\n",
        "# You must write an algorithm that runs in O(n) time and without using the division operation.\n",
        "# Example 1:\n",
        "# Input: nums = [1,2,3,4]\n",
        "# Output: [24,12,8,6]\n",
        "# Example 2:\n",
        "# Input: nums = [-1,1,0,-3,3]\n",
        "# Output: [0,0,9,0,0]\n",
        "\n",
        "# Constraints:\n",
        "# 2 <= nums.length <= 105\n",
        "# -30 <= nums[i] <= 30\n",
        "# The product of any prefix or suffix of nums is guaranteed to fit in a 32-bit integer."
      ]
    },
    {
      "cell_type": "code",
      "source": [
        "def productExceptSelf(nums):\n",
        "    n = len(nums)\n",
        "    answer = [1] * n  # Initialize the answer array with 1s\n",
        "\n",
        "    # Step 1: Calculate prefix products\n",
        "    prefix = 1\n",
        "    for i in range(n):\n",
        "        answer[i] = prefix\n",
        "        prefix *= nums[i]\n",
        "\n",
        "    # Step 2: Calculate suffix products and combine with prefix\n",
        "    suffix = 1\n",
        "    for i in range(n - 1, -1, -1):\n",
        "        answer[i] *= suffix\n",
        "        suffix *= nums[i]\n",
        "\n",
        "    return answer\n",
        "\n",
        "# Example usage:\n",
        "nums1 = [1, 2, 3, 4]\n",
        "nums2 = [-1, 1, 0, -3, 3]\n",
        "\n",
        "print(productExceptSelf(nums1))  # Output: [24, 12, 8, 6]\n",
        "print(productExceptSelf(nums2))  # Output: [0, 0, 9, 0, 0]\n"
      ],
      "metadata": {
        "colab": {
          "base_uri": "https://localhost:8080/"
        },
        "id": "NR4Tquqcxnvj",
        "outputId": "9e0e335b-a83a-484c-9448-297ca22bdfb6"
      },
      "execution_count": 2,
      "outputs": [
        {
          "output_type": "stream",
          "name": "stdout",
          "text": [
            "[24, 12, 8, 6]\n",
            "[0, 0, 9, 0, 0]\n"
          ]
        }
      ]
    },
    {
      "cell_type": "code",
      "source": [],
      "metadata": {
        "id": "C3z6PqKG4acc"
      },
      "execution_count": null,
      "outputs": []
    }
  ]
}