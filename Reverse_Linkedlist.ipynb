{
  "nbformat": 4,
  "nbformat_minor": 0,
  "metadata": {
    "colab": {
      "provenance": [],
      "authorship_tag": "ABX9TyN2Qr9v5C2AS6bTghmfPf1W",
      "include_colab_link": true
    },
    "kernelspec": {
      "name": "python3",
      "display_name": "Python 3"
    },
    "language_info": {
      "name": "python"
    }
  },
  "cells": [
    {
      "cell_type": "markdown",
      "metadata": {
        "id": "view-in-github",
        "colab_type": "text"
      },
      "source": [
        "<a href=\"https://colab.research.google.com/github/athulya137/DSA_Coding_Qs/blob/main/Reverse_Linkedlist.ipynb\" target=\"_parent\"><img src=\"https://colab.research.google.com/assets/colab-badge.svg\" alt=\"Open In Colab\"/></a>"
      ]
    },
    {
      "cell_type": "code",
      "source": [
        "class ListNode:\n",
        "    def __init__(self, value=0, next=None):\n",
        "        self.value = value\n",
        "        self.next = next\n",
        "\n",
        "def print_reversed_list(head):\n",
        "    # Use a stack to store the values from the list\n",
        "    stack = []\n",
        "    current = head\n",
        "\n",
        "    # Traverse the list and push each value onto the stack\n",
        "    while current:\n",
        "        stack.append(current.value)\n",
        "        current = current.next\n",
        "\n",
        "    # Pop values from the stack and print them in reverse order\n",
        "    while stack:\n",
        "        print(stack.pop())\n",
        "\n",
        "# Example usage\n",
        "if __name__ == \"__main__\":\n",
        "    # Create a sample linked list: 1 -> 2 -> 3\n",
        "    head = ListNode(1, ListNode(2, ListNode(3)))\n",
        "\n",
        "    # Print the reversed list\n",
        "    print_reversed_list(head)\n"
      ],
      "metadata": {
        "colab": {
          "base_uri": "https://localhost:8080/"
        },
        "id": "epQ6e70JfxLR",
        "outputId": "5450cdb2-dad0-43a9-e600-76758e669aaf"
      },
      "execution_count": 23,
      "outputs": [
        {
          "output_type": "stream",
          "name": "stdout",
          "text": [
            "3\n",
            "2\n",
            "1\n"
          ]
        }
      ]
    },
    {
      "cell_type": "code",
      "source": [],
      "metadata": {
        "id": "jhKPCEB9iVCd"
      },
      "execution_count": null,
      "outputs": []
    }
  ]
}