{
  "nbformat": 4,
  "nbformat_minor": 0,
  "metadata": {
    "colab": {
      "provenance": [],
      "authorship_tag": "ABX9TyO8ltUiURZyOYwZopC4oh3h",
      "include_colab_link": true
    },
    "kernelspec": {
      "name": "python3",
      "display_name": "Python 3"
    },
    "language_info": {
      "name": "python"
    }
  },
  "cells": [
    {
      "cell_type": "markdown",
      "metadata": {
        "id": "view-in-github",
        "colab_type": "text"
      },
      "source": [
        "<a href=\"https://colab.research.google.com/github/athulya137/DSA_Coding_Qs/blob/main/Two_Sum_Pair_with_Given_Sum.ipynb\" target=\"_parent\"><img src=\"https://colab.research.google.com/assets/colab-badge.svg\" alt=\"Open In Colab\"/></a>"
      ]
    },
    {
      "cell_type": "code",
      "execution_count": 1,
      "metadata": {
        "id": "dG1tEqyGlvm0"
      },
      "outputs": [],
      "source": [
        "# Given an array arr[] of positive integers and another integer target. Determine if there exist two distinct indices such that the sum of their elements is equal to the target.\n",
        "\n",
        "# Examples:\n",
        "\n",
        "# Input: arr[] = [1, 4, 45, 6, 10, 8], target = 16   Output: true   Explanation: arr[3] + arr[4] = 6 + 10 = 16.\n",
        "# Input: arr[] = [1, 2, 4, 3, 6], target = 11  Output: false   Explanation: None of the pair makes a sum of 11.\n",
        "# Input: arr[] = [11], target = 11  Output: false  Explanation: No pair is possible as only one element is present in arr[].\n",
        "# Constraints:\n",
        "# 1 ≤ arr.size ≤ 105\n",
        "# 1 ≤ arr[i] ≤ 105\n",
        "# 1 ≤ target ≤ 2*105"
      ]
    },
    {
      "cell_type": "code",
      "source": [
        "def has_pair_with_sum(arr, target):\n",
        "    seen = set()\n",
        "    for num in arr:\n",
        "        complement = target - num\n",
        "        if complement in seen:\n",
        "            return True\n",
        "        seen.add(num)\n",
        "    return False\n",
        "\n",
        "# Example usage\n",
        "arr1 = [1, 4, 45, 6, 10, 8]\n",
        "target1 = 16\n",
        "print(has_pair_with_sum(arr1, target1))\n",
        "\n",
        "arr2 = [1, 2, 4, 3, 6]\n",
        "target2 = 11\n",
        "print(has_pair_with_sum(arr2, target2))\n",
        "\n",
        "arr3 = [11]\n",
        "target3 = 11\n",
        "print(has_pair_with_sum(arr3, target3))\n"
      ],
      "metadata": {
        "colab": {
          "base_uri": "https://localhost:8080/"
        },
        "id": "glbszPLEmGPV",
        "outputId": "93214e73-58d2-4574-961e-b3f906cb7f8d"
      },
      "execution_count": 3,
      "outputs": [
        {
          "output_type": "stream",
          "name": "stdout",
          "text": [
            "True\n",
            "False\n",
            "False\n"
          ]
        }
      ]
    },
    {
      "cell_type": "code",
      "source": [],
      "metadata": {
        "id": "kgRGuOPzmM17"
      },
      "execution_count": null,
      "outputs": []
    }
  ]
}